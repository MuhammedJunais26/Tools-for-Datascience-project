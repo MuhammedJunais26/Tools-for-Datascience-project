{
 "cells": [
  {
   "cell_type": "markdown",
   "id": "df71d361-207a-419b-a477-fba456d59afa",
   "metadata": {},
   "source": [
    "# Data Science Tools and Ecosystem"
   ]
  },
  {
   "cell_type": "markdown",
   "id": "844de5e9-962a-4016-af87-0bd216c3377e",
   "metadata": {},
   "source": [
    "In this notebook, Data science tools and notebooks are summarized"
   ]
  },
  {
   "cell_type": "markdown",
   "id": "c0e23f21-434e-473b-b2ff-53a5fc6dcc8a",
   "metadata": {},
   "source": [
    "**Objectives:**\n",
    "* Python\n",
    "* Watson studio\n",
    "* R studio\n",
    "* SQL \n",
    "* Scala"
   ]
  },
  {
   "cell_type": "markdown",
   "id": "2553c33b-78f5-482d-83e2-d4bd14a44f18",
   "metadata": {},
   "source": [
    "Some of the popular languages that Data scientists use are:\n",
    "1. Python\n",
    "2. R\n",
    "3. SQL"
   ]
  },
  {
   "cell_type": "markdown",
   "id": "0a90afb0-b183-45a4-83fa-b445b71d50d8",
   "metadata": {},
   "source": [
    "Some the commonly used libraries by Data scientists include:\n",
    "1. Pandas\n",
    "2. Numpy\n",
    "3. Tensorflow"
   ]
  },
  {
   "cell_type": "markdown",
   "id": "5c962184-8e49-4357-829e-335f68cce051",
   "metadata": {},
   "source": [
    "| Data science tools |\n",
    "|--------------------|\n",
    "|Jupyter notebook|\n",
    "|R studio|\n",
    "|IBM Watson studio|"
   ]
  },
  {
   "cell_type": "markdown",
   "id": "1535e4d3-b856-4a06-815e-a27e0bc88119",
   "metadata": {},
   "source": [
    "### Below are a few examples of evaluating arithmetic expressions in Python"
   ]
  },
  {
   "cell_type": "markdown",
   "id": "64850b0c-c96a-42c6-b3a1-98d29c16867e",
   "metadata": {
    "tags": []
   },
   "source": [
    "This is a simple arithmetic expression to multiply and then add integers"
   ]
  },
  {
   "cell_type": "code",
   "execution_count": 3,
   "id": "851908aa-af65-40db-804c-4555913f359e",
   "metadata": {},
   "outputs": [
    {
     "data": {
      "text/plain": [
       "17"
      ]
     },
     "execution_count": 3,
     "metadata": {},
     "output_type": "execute_result"
    }
   ],
   "source": [
    "(3*4)+5"
   ]
  },
  {
   "cell_type": "markdown",
   "id": "3bc25ea8-162f-42f6-8360-115cbc8b1b66",
   "metadata": {},
   "source": [
    "This will convert hours to minute by dividing by 60"
   ]
  },
  {
   "cell_type": "code",
   "execution_count": 4,
   "id": "5ef79cb1-2822-4897-9777-e08df758ad4a",
   "metadata": {},
   "outputs": [
    {
     "data": {
      "text/plain": [
       "3.3333333333333335"
      ]
     },
     "execution_count": 4,
     "metadata": {},
     "output_type": "execute_result"
    }
   ],
   "source": [
    "200/60"
   ]
  },
  {
   "cell_type": "markdown",
   "id": "ea39abc3-ce19-4de5-93d5-342501215947",
   "metadata": {},
   "source": [
    "## Author\n",
    "Muhammed Junais"
   ]
  }
 ],
 "metadata": {
  "kernelspec": {
   "display_name": "Python",
   "language": "python",
   "name": "conda-env-python-py"
  },
  "language_info": {
   "codemirror_mode": {
    "name": "ipython",
    "version": 3
   },
   "file_extension": ".py",
   "mimetype": "text/x-python",
   "name": "python",
   "nbconvert_exporter": "python",
   "pygments_lexer": "ipython3",
   "version": "3.7.12"
  }
 },
 "nbformat": 4,
 "nbformat_minor": 5
}
